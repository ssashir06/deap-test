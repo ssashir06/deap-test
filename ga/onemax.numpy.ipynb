{
 "metadata": {
  "language_info": {
   "codemirror_mode": {
    "name": "ipython",
    "version": 3
   },
   "file_extension": ".py",
   "mimetype": "text/x-python",
   "name": "python",
   "nbconvert_exporter": "python",
   "pygments_lexer": "ipython3",
   "version": "3.8.5-final"
  },
  "orig_nbformat": 2,
  "kernelspec": {
   "name": "python3",
   "display_name": "Python 3",
   "language": "python"
  }
 },
 "nbformat": 4,
 "nbformat_minor": 2,
 "cells": [
  {
   "source": [
    "https://deap.readthedocs.io/en/master/examples/ga_onemax_numpy.html"
   ],
   "cell_type": "markdown",
   "metadata": {}
  },
  {
   "cell_type": "code",
   "execution_count": 1,
   "metadata": {},
   "outputs": [],
   "source": [
    "import random\n",
    "import numpy\n",
    "\n",
    "from deap import base\n",
    "from deap import creator\n",
    "from deap import tools\n",
    "from deap import algorithms"
   ]
  },
  {
   "cell_type": "code",
   "execution_count": 2,
   "metadata": {},
   "outputs": [],
   "source": [
    "creator.create(\"FitnessMax\", base.Fitness, weights=(1.0,))\n",
    "creator.create(\"Individual\", numpy.ndarray, fitness=creator.FitnessMax)"
   ]
  },
  {
   "cell_type": "code",
   "execution_count": 3,
   "metadata": {},
   "outputs": [],
   "source": [
    "toolbox = base.Toolbox()\n",
    "# Attribute generator \n",
    "toolbox.register(\"attr_bool\", random.randint, 0, 1)\n",
    "# Structure initializers\n",
    "toolbox.register(\"individual\", tools.initRepeat, creator.Individual, \n",
    "    toolbox.attr_bool, 100)\n",
    "toolbox.register(\"population\", tools.initRepeat, list, toolbox.individual)\n"
   ]
  },
  {
   "cell_type": "code",
   "execution_count": 4,
   "metadata": {},
   "outputs": [],
   "source": [
    "def evalOneMax(individual):\n",
    "    return sum(individual),"
   ]
  },
  {
   "cell_type": "code",
   "execution_count": 5,
   "metadata": {},
   "outputs": [],
   "source": [
    "def cxTwoPointCopy(ind1, ind2):\n",
    "    \"\"\"Execute a two points crossover with copy on the input individuals. The\n",
    "    copy is required because the slicing in numpy returns a view of the data,\n",
    "    which leads to a self overwritting in the swap operation. It prevents\n",
    "    ::\n",
    "    \n",
    "        >>> import numpy\n",
    "        >>> a = numpy.array((1,2,3,4))\n",
    "        >>> b = numpy.array((5,6,7,8))\n",
    "        >>> a[1:3], b[1:3] = b[1:3], a[1:3]\n",
    "        >>> print(a)\n",
    "        [1 6 7 4]\n",
    "        >>> print(b)\n",
    "        [5 6 7 8]\n",
    "    \"\"\"\n",
    "    size = len(ind1)\n",
    "    cxpoint1 = random.randint(1, size)\n",
    "    cxpoint2 = random.randint(1, size - 1)\n",
    "    if cxpoint2 >= cxpoint1:\n",
    "        cxpoint2 += 1\n",
    "    else: # Swap the two cx points\n",
    "        cxpoint1, cxpoint2 = cxpoint2, cxpoint1\n",
    "\n",
    "    ind1[cxpoint1:cxpoint2], ind2[cxpoint1:cxpoint2] \\\n",
    "        = ind2[cxpoint1:cxpoint2].copy(), ind1[cxpoint1:cxpoint2].copy()\n",
    "        \n",
    "    return ind1, ind2"
   ]
  },
  {
   "cell_type": "code",
   "execution_count": 6,
   "metadata": {},
   "outputs": [],
   "source": [
    "toolbox.register(\"evaluate\", evalOneMax)\n",
    "toolbox.register(\"mate\", cxTwoPointCopy)\n",
    "toolbox.register(\"mutate\", tools.mutFlipBit, indpb=0.05)\n",
    "toolbox.register(\"select\", tools.selTournament, tournsize=3)\n"
   ]
  },
  {
   "cell_type": "code",
   "execution_count": 7,
   "metadata": {},
   "outputs": [],
   "source": [
    "def main():\n",
    "    pop = toolbox.population(n=300)\n",
    "    hof = tools.HallOfFame(1, similar=numpy.array_equal)\n",
    "    stats = tools.Statistics(lambda ind: ind.fitness.values)\n",
    "    stats.register(\"avg\", numpy.mean)\n",
    "    stats.register(\"std\", numpy.std)\n",
    "    stats.register(\"min\", numpy.min)\n",
    "    stats.register(\"max\", numpy.max)\n",
    "    \n",
    "    pop, log = algorithms.eaSimple(pop, toolbox, cxpb=0.5, mutpb=0.2, ngen=40, \n",
    "                                   stats=stats, halloffame=hof, verbose=True)"
   ]
  },
  {
   "cell_type": "code",
   "execution_count": 8,
   "metadata": {},
   "outputs": [
    {
     "output_type": "stream",
     "name": "stdout",
     "text": [
      "gen\tnevals\tavg  \tstd    \tmin\tmax\n",
      "0  \t300   \t49.55\t4.82571\t34 \t63 \n",
      "1  \t163   \t53.1967\t3.49638\t43 \t63 \n",
      "2  \t164   \t55.76  \t2.99818\t48 \t64 \n",
      "3  \t178   \t58.1667\t2.9267 \t51 \t66 \n",
      "4  \t177   \t60.2233\t3.05834\t49 \t68 \n",
      "5  \t170   \t62.6933\t2.61775\t56 \t70 \n",
      "6  \t193   \t64.5867\t2.53821\t57 \t73 \n",
      "7  \t178   \t66.39  \t2.60088\t57 \t75 \n",
      "8  \t176   \t68.38  \t2.50777\t61 \t79 \n",
      "9  \t164   \t70.28  \t2.82989\t61 \t79 \n",
      "10 \t193   \t72.12  \t2.98423\t63 \t80 \n",
      "11 \t198   \t74.1767\t3.14199\t62 \t82 \n",
      "12 \t184   \t76.0633\t2.5125 \t67 \t82 \n",
      "13 \t180   \t77.5167\t2.39368\t67 \t86 \n",
      "14 \t167   \t78.8867\t2.36513\t70 \t86 \n",
      "15 \t181   \t80.0967\t2.26877\t73 \t86 \n",
      "16 \t190   \t81.2   \t2.53509\t71 \t89 \n",
      "17 \t197   \t82.6433\t2.68504\t69 \t91 \n",
      "18 \t180   \t83.9267\t2.60665\t75 \t90 \n",
      "19 \t183   \t85.3533\t2.3098 \t77 \t91 \n",
      "20 \t184   \t86.2967\t2.47561\t77 \t92 \n",
      "21 \t183   \t87.3667\t2.30627\t79 \t92 \n",
      "22 \t191   \t88.5133\t2.24421\t80 \t94 \n",
      "23 \t155   \t89.3933\t2.26391\t80 \t95 \n",
      "24 \t170   \t90.3033\t2.249  \t83 \t96 \n",
      "25 \t185   \t91.31  \t2.28486\t83 \t95 \n",
      "26 \t179   \t92.1633\t2.20982\t82 \t97 \n",
      "27 \t165   \t92.9767\t2.23669\t83 \t97 \n",
      "28 \t174   \t93.4767\t2.38526\t85 \t98 \n",
      "29 \t177   \t94.19  \t2.23022\t84 \t98 \n",
      "30 \t182   \t94.6667\t2.42395\t83 \t98 \n",
      "31 \t191   \t95.2733\t2.29607\t84 \t99 \n",
      "32 \t179   \t96.02  \t2.17859\t87 \t99 \n",
      "33 \t185   \t96.2133\t2.55757\t87 \t99 \n",
      "34 \t180   \t96.8967\t2.16009\t88 \t99 \n",
      "35 \t180   \t97.1767\t2.11316\t89 \t99 \n",
      "36 \t173   \t97.6067\t2.14599\t89 \t99 \n",
      "37 \t190   \t97.64  \t2.35451\t87 \t100\n",
      "38 \t180   \t98     \t2.11818\t89 \t100\n",
      "39 \t188   \t97.97  \t2.26181\t87 \t100\n",
      "40 \t191   \t97.9633\t2.2484 \t90 \t100\n"
     ]
    }
   ],
   "source": [
    "main()"
   ]
  }
 ]
}